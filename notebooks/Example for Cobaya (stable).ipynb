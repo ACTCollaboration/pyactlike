{
 "cells": [
  {
   "cell_type": "code",
   "execution_count": 1,
   "metadata": {},
   "outputs": [],
   "source": [
    "%matplotlib inline\n",
    "%config InlineBackend.figure_format = 'retina'"
   ]
  },
  {
   "cell_type": "code",
   "execution_count": 2,
   "metadata": {},
   "outputs": [],
   "source": [
    "import matplotlib.pyplot as plt\n",
    "import numpy as np\n",
    "import pyactlike"
   ]
  },
  {
   "cell_type": "markdown",
   "metadata": {},
   "source": [
    "# Example for Cobaya (version < 2.1)\n",
    "\n",
    "This example demonstrates how to use the ACT likelihood on versions of Cobaya less than 2.1, such as the current stable release."
   ]
  },
  {
   "cell_type": "code",
   "execution_count": 3,
   "metadata": {},
   "outputs": [
    {
     "name": "stdout",
     "output_type": "stream",
     "text": [
      "[model] *WARNING* Ignored blocks/options: ['sampler']\n",
      "[act] Initialised external likelihood.\n",
      "[camb] Importing *global* CAMB.\n",
      "[likelihood] The theory code will compute the following products, requested by the likelihoods: ['Cl']\n"
     ]
    }
   ],
   "source": [
    "# Test the Cobaya interface to the ACT likelihood.\n",
    "from cobaya.yaml import yaml_load\n",
    "from cobaya.model import get_model\n",
    "\n",
    "# need to define a wrapper for this external likelihood and ask for C_ell\n",
    "like = pyactlike.ACTPowerSpectrumData()\n",
    "def external_act_like(yp2=1.0, \n",
    "        _theory={'Cl': {\n",
    "            'tt': like.tt_lmax, \n",
    "            'te': like.tt_lmax, \n",
    "            'ee': like.tt_lmax\n",
    "        }}, \n",
    "        _derived={}):\n",
    "    Cls = _theory.get_Cl(ell_factor=True)\n",
    "    return like.loglike(\n",
    "        Cls['tt'][2: like.tt_lmax+1], \n",
    "        Cls['te'][2: like.tt_lmax+1], \n",
    "        Cls['ee'][2: like.tt_lmax+1], yp2)\n",
    "\n",
    "# set up our model\n",
    "info = {\n",
    "    'likelihood': {'act': external_act_like},\n",
    "    'theory': {'camb': {'stop_at_error': True}},\n",
    "    'params': {\n",
    "        'ns': {\n",
    "            'prior': {\n",
    "                'min': 0.8,\n",
    "                'max': 1.2\n",
    "            },\n",
    "            'ref': {\n",
    "                'dist': 'norm',\n",
    "                'loc': 0.965,\n",
    "                'scale': 0.004\n",
    "            },\n",
    "            'proposal': 0.002,\n",
    "            'latex': r'n_\\mathrm{s}'\n",
    "        },\n",
    "        'yp2':{\n",
    "            'prior': {\n",
    "                'min': 0.9,\n",
    "                'max': 1.1\n",
    "            }\n",
    "        },\n",
    "        \n",
    "        'As': 2.1e-09,\n",
    "        'H0': 68,\n",
    "        'mnu': 0.06,\n",
    "        'nnu': 3.046,\n",
    "        'num_massive_neutrinos': 1,\n",
    "        'ombh2': 0.022,\n",
    "        'omch2': 0.12,\n",
    "        'tau': 0.07,\n",
    "        \n",
    "        \n",
    "    },\n",
    "    \n",
    "    'sampler': {\n",
    "        'mcmc': {\n",
    "            'proposal_scale': 2.4\n",
    "        }\n",
    "    }\n",
    "}\n",
    "model = get_model(info)"
   ]
  },
  {
   "cell_type": "code",
   "execution_count": 4,
   "metadata": {},
   "outputs": [],
   "source": [
    "fiducial_params = {\n",
    "    'ns': 0.97,\n",
    "    'yp2':1.0\n",
    "}"
   ]
  },
  {
   "cell_type": "code",
   "execution_count": 5,
   "metadata": {},
   "outputs": [
    {
     "data": {
      "text/plain": [
       "-188.21785329683718"
      ]
     },
     "execution_count": 5,
     "metadata": {},
     "output_type": "execute_result"
    }
   ],
   "source": [
    "model.loglike(fiducial_params)[0]"
   ]
  },
  {
   "cell_type": "code",
   "execution_count": null,
   "metadata": {},
   "outputs": [],
   "source": [
    "from cobaya.run import run\n",
    "updated_info, products = run(info)"
   ]
  }
 ],
 "metadata": {
  "kernelspec": {
   "display_name": "Python 3 (cobaya_stable)",
   "language": "python",
   "name": "ps"
  },
  "language_info": {
   "codemirror_mode": {
    "name": "ipython",
    "version": 3
   },
   "file_extension": ".py",
   "mimetype": "text/x-python",
   "name": "python",
   "nbconvert_exporter": "python",
   "pygments_lexer": "ipython3",
   "version": "3.8.2"
  }
 },
 "nbformat": 4,
 "nbformat_minor": 2
}
